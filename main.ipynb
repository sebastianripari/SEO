{
 "cells": [
  {
   "cell_type": "markdown",
   "metadata": {},
   "source": [
    "# SEO (Search Engine Optimization)"
   ]
  },
  {
   "cell_type": "markdown",
   "metadata": {},
   "source": [
    "# Curso SEO"
   ]
  },
  {
   "cell_type": "markdown",
   "metadata": {},
   "source": [
    "<b>Fuente</b>: https://www.youtube.com/playlist?list=PL6heMTo6Ni5cyGYGzhGLiNZJjWjkz2uYW"
   ]
  },
  {
   "cell_type": "markdown",
   "metadata": {},
   "source": [
    "<hr>"
   ]
  },
  {
   "cell_type": "markdown",
   "metadata": {},
   "source": [
    "## Definicion"
   ]
  },
  {
   "cell_type": "markdown",
   "metadata": {},
   "source": [
    "El <b>SEO</b> es conseguir visitas con los buscadores."
   ]
  },
  {
   "cell_type": "markdown",
   "metadata": {},
   "source": [
    "<hr>"
   ]
  },
  {
   "cell_type": "markdown",
   "metadata": {},
   "source": [
    "## Resultados (Ganancias) con Adsense de Romuald Fons"
   ]
  },
  {
   "cell_type": "markdown",
   "metadata": {},
   "source": [
    "Primer mes (Enero 2013): <b>2,48 EUR</b> eran 10 Webs.<br>\n",
    "Segundo mes (Febrero 2013): <b>0,85 EUR</b>.<br>\n",
    "Tercer mes (Marzo 2013): <b>11,58 EUR</b>.<br>"
   ]
  },
  {
   "cell_type": "markdown",
   "metadata": {},
   "source": [
    "La cuestion es ir viendo lo que funciona y lo que no para ir tomandole cancha."
   ]
  },
  {
   "cell_type": "markdown",
   "metadata": {},
   "source": [
    "9 meses mas tarde (Enero 2014) gano <b>1500 EUR</b>."
   ]
  },
  {
   "cell_type": "markdown",
   "metadata": {},
   "source": [
    "1 anio despues (Enero 2015) gano <b>7400 EUR</b>"
   ]
  },
  {
   "cell_type": "markdown",
   "metadata": {},
   "source": [
    "1 anio despues (Enero 2016) gano <b>18000 EUR</b>"
   ]
  },
  {
   "cell_type": "markdown",
   "metadata": {},
   "source": [
    "<hr>"
   ]
  },
  {
   "cell_type": "markdown",
   "metadata": {},
   "source": [
    "## Elegir el Dominio Perfecto"
   ]
  },
  {
   "cell_type": "markdown",
   "metadata": {},
   "source": [
    "El <b>Dominio</b> tiene dos partes, el <b>nombre</b> y la <b>extension</b>."
   ]
  },
  {
   "cell_type": "markdown",
   "metadata": {},
   "source": [
    "<b>Ejemplo</b>: romualdfons.com. Donde \"romualdfons\" es el nombre y \"com\" es la extension. "
   ]
  },
  {
   "cell_type": "markdown",
   "metadata": {},
   "source": [
    "## Nombre"
   ]
  },
  {
   "cell_type": "markdown",
   "metadata": {},
   "source": [
    "En esta seccion vamos a aprender a elegir el nombre de dominio. Para esto vamos a utilizar una receta, llamada <b>receta paloma</b>."
   ]
  },
  {
   "cell_type": "markdown",
   "metadata": {},
   "source": [
    "- SEO <b>PA</b>labra Clave\n",
    "- SEO <b>LO</b>cal\n",
    "- SEO <b>MA</b>rca"
   ]
  },
  {
   "cell_type": "markdown",
   "metadata": {},
   "source": [
    "<b>SEO Palabra Clave</b>: Consiste en poner palabras clave de lo que va a tratar la web en el nombre del dominio. "
   ]
  },
  {
   "cell_type": "markdown",
   "metadata": {},
   "source": [
    "<b>SEO Local</b>: Se aplica en casos donde tenemos un negocio local, o si estamos dando un servicio a una determinada zona"
   ]
  },
  {
   "cell_type": "markdown",
   "metadata": {},
   "source": [
    "<b>SEO Marca</b>: Aqui van las webs que refieren a una marca, una persona. Por ejemplo: microsoft.com, romualdfons.com."
   ]
  },
  {
   "cell_type": "markdown",
   "metadata": {},
   "source": [
    "Es muy importante decir que podemos combinar estos 3 tipos de nombre de dominio. Podemos usar dos o incluso los tres al mismo tiempo. Por ejemplo como Romuald Fons hace SEO su Web podria haberse llamado romualdfonsseo.com. Aunque esto no mejoraria los posicionamientos porque SEO es una palabra clave con mucha competencia, conviene poner una palabra clave mas longtail, como por ejemplo \"experto seo\", esta tiene menos competencia. Entonces quedaria romualdfonsexpertoseo.com. El SEO de palabra clave entonces aporta considerablemente cuando son palabras de poca competencia. Por ejemplo: sillasmetalargentinablancas.com en este caso estamos en el terreno de sillas de metal blancas en argentina, la competencia de esto seguramente sea baja y entonces en este nicho seguramente logremos posicionarnos. La contra que tiene eso es que son dominios largos y dificiles de acordarnoslo."
   ]
  },
  {
   "cell_type": "markdown",
   "metadata": {},
   "source": [
    "<b>JAMAS USAR UNA MARCA REGISTRADA EN NUESTRO DOMINIO, PORQUE RECIBIREMOS UNA MULTA</b>"
   ]
  },
  {
   "cell_type": "markdown",
   "metadata": {},
   "source": [
    "Si vamos a usar SEO Palabra clave, se recomienda que la palabra clave este al principio."
   ]
  },
  {
   "cell_type": "markdown",
   "metadata": {},
   "source": [
    "<b>Sufijos</b>: Podemos usar sufijos como \"vip\", \"pro\", \"net\", \"blog\", \"net\". Por si nuestro dominio esta ocupado. Ejemplo en lugar cremasparalacara.com podemos usar creamasparalacaranet.com. Que esto no va a afectar en nada al BUS que nos da el EMD."
   ]
  },
  {
   "cell_type": "markdown",
   "metadata": {},
   "source": [
    "## Extension"
   ]
  },
  {
   "cell_type": "markdown",
   "metadata": {},
   "source": [
    "Hay dos tipos de extension:\n",
    "- <b>Globales (o genericos)</b>.\n",
    "- <b>Geolocalizados (o territoriales)</b>."
   ]
  },
  {
   "cell_type": "markdown",
   "metadata": {},
   "source": [
    "<b>Globales</b>: Aca estan los que indican que la pagina es global, es decir que lo que se ofrece no esta limitado a un territorio. Estos son .com .org .net y muchos otros mas. "
   ]
  },
  {
   "cell_type": "markdown",
   "metadata": {},
   "source": [
    "<b>Geolocalizados</b>: Aca estan los que indican que la pagina es local, es decir que los servicios que ofrece estan limitados a un territorio. Esto son .es .ar .mx y muchos otros mas."
   ]
  },
  {
   "cell_type": "markdown",
   "metadata": {},
   "source": [
    "Podemos saber si un dominio es Global o no usando el <b>Google Search Console</b>."
   ]
  },
  {
   "cell_type": "markdown",
   "metadata": {},
   "source": [
    "### Conbinar Nombre + Extension"
   ]
  },
  {
   "cell_type": "markdown",
   "metadata": {},
   "source": [
    "Algo ingenioso que podemos hacer es combinar el nombre de dominio con la extension. Vamos con un ejemplo para que se entienda: \"relojes.fit\", observar que \"relojes fit\" es una palabra clave, pero a su ves \"fit\" es la extension, por lo tanto aca estamos aprobechando la extension. Luego tambien podemos aprobechar lo que sigue despues de la barra, vamos con otro ejemplo \"significado.de/procesador\" notar que \"significado de procesador\" es una palabra clave que a su ves esta armada con la extension y con lo que sigue despues de la barra. Otro ejemplo es \"relojes.fit/mujer\"."
   ]
  },
  {
   "cell_type": "markdown",
   "metadata": {},
   "source": [
    "Es mas SEO un dominio <b>.com</b>?: No."
   ]
  },
  {
   "cell_type": "markdown",
   "metadata": {},
   "source": [
    "## Meter mas palabras claves en un Dominio (SEMRUSH)"
   ]
  },
  {
   "cell_type": "markdown",
   "metadata": {},
   "source": [
    "Lo siguiente que vamos a explicar es cuando la palabra clave principal tiene todos los dominios ocupados, en este caso: <b>paella</b>."
   ]
  },
  {
   "cell_type": "markdown",
   "metadata": {},
   "source": [
    "Elegimos: <b>recetapaellademarisco.net</b>."
   ]
  },
  {
   "cell_type": "markdown",
   "metadata": {},
   "source": [
    "Porque en este dominio hay varias palabras clave, estas son:\n",
    "- recetapaellademarisco\n",
    "- paellademarisco\n",
    "- recetapaella\n",
    "- paella"
   ]
  },
  {
   "cell_type": "markdown",
   "metadata": {},
   "source": [
    "La primera es la mas longtail, la que menos competencia tiene y por lo tanto la mas facil de poscicionar. Y la ultima es la menos longtail, la que mas competencia tiene y por lo tanto la mas dificil de posicionar. Por lo tanto la primera que se va a posicionar es <b>recetapaellademarisco</b>."
   ]
  },
  {
   "cell_type": "markdown",
   "metadata": {},
   "source": [
    "<hr>"
   ]
  },
  {
   "cell_type": "markdown",
   "metadata": {},
   "source": [
    "## Hosting "
   ]
  },
  {
   "cell_type": "markdown",
   "metadata": {},
   "source": [
    "Entre todos los hostings de pago Romuald Fons recomienda https://sered.net/"
   ]
  },
  {
   "cell_type": "markdown",
   "metadata": {},
   "source": [
    "Ademas en este tendremos dos meses gratis introduciendo el codigo \"romutv\" que es tiempo suficiente para que nuestra web genere los ingresos suficientes como para pagar luego el costo de mantencion de hosting."
   ]
  },
  {
   "cell_type": "markdown",
   "metadata": {},
   "source": [
    "<hr>"
   ]
  },
  {
   "cell_type": "markdown",
   "metadata": {},
   "source": [
    "## Wordpress"
   ]
  },
  {
   "cell_type": "markdown",
   "metadata": {},
   "source": [
    "### Barra de Navegacion"
   ]
  },
  {
   "cell_type": "markdown",
   "metadata": {},
   "source": [
    "<img src=\"Imagenes/barra_de_navegacion.png\">"
   ]
  },
  {
   "cell_type": "markdown",
   "metadata": {},
   "source": [
    "La barra de navegacion es la barra horizontal en la parte superior, es omnipresente. Y sirve para un monton de cosas que iremos viendo a continuacion."
   ]
  },
  {
   "cell_type": "markdown",
   "metadata": {},
   "source": [
    "### Actualizar"
   ]
  },
  {
   "cell_type": "markdown",
   "metadata": {},
   "source": [
    "<img src=\"Imagenes/actualizar.png\">"
   ]
  },
  {
   "cell_type": "markdown",
   "metadata": {},
   "source": [
    "Cuando aparece un 1 en esa ruedita significa que hay una actualizacion disponible. Es muy recomendable descargarla siempre ya que muchas veces son fix a vulnerabilidades y entonces ayudan a mantener nuestra web mas segura."
   ]
  },
  {
   "cell_type": "markdown",
   "metadata": {},
   "source": [
    "### Comentarios Pendientes"
   ]
  },
  {
   "cell_type": "markdown",
   "metadata": {},
   "source": [
    "<img src=\"Imagenes/comentarios_pendientes.png\">"
   ]
  },
  {
   "cell_type": "markdown",
   "metadata": {},
   "source": [
    "Cuando las personas comenten en nuestro blog, recibiremos una notificacion indicandolo, y tendremos la potestad de aceptar o rechazar ese comentario. Hasta que el comentario no es aceptado no se mostrara en el blog. Por lo tanto esto evita que se nos llene el blog de spam."
   ]
  },
  {
   "cell_type": "markdown",
   "metadata": {},
   "source": [
    "### Nueva (Pagina o Entrada)"
   ]
  },
  {
   "cell_type": "markdown",
   "metadata": {},
   "source": [
    "<img src=\"Imagenes/nuevo.png\">"
   ]
  },
  {
   "cell_type": "markdown",
   "metadata": {},
   "source": [
    "Nos sirve para agregar una nueva pagina o entrada que mas adelante explicaremos lo que es. La opcion de nuevo Medio, Enlace y Usuario son raramente usadas desde aqui."
   ]
  },
  {
   "cell_type": "markdown",
   "metadata": {},
   "source": [
    "### Cerrar Sesion y Editar Perfil"
   ]
  },
  {
   "cell_type": "markdown",
   "metadata": {},
   "source": [
    "<img src=\"Imagenes/cerrar_sesion_y_editar_perfil.png\">"
   ]
  },
  {
   "cell_type": "markdown",
   "metadata": {},
   "source": [
    "Desde aqui podremos cerrar sesion o editar nuestro perfil."
   ]
  },
  {
   "cell_type": "markdown",
   "metadata": {},
   "source": [
    "### Entrada"
   ]
  },
  {
   "cell_type": "markdown",
   "metadata": {},
   "source": [
    "Vamos a crear una nueva entrada."
   ]
  },
  {
   "cell_type": "markdown",
   "metadata": {},
   "source": [
    "<img src=\"Imagenes/nueva_entrada.png\">"
   ]
  },
  {
   "cell_type": "markdown",
   "metadata": {},
   "source": [
    "El <b>titulo</b> es lo que se conoce en HTML como el H1 y es muy importante porque es un factor de posicionamiento muy potente. "
   ]
  },
  {
   "cell_type": "markdown",
   "metadata": {},
   "source": [
    "En la <b>descripcion</b> pueden ir diferentes cosas como texto, enlaces, imagenes."
   ]
  },
  {
   "cell_type": "markdown",
   "metadata": {},
   "source": [
    "<img src=\"Imagenes/aniadir_objetos.png\">"
   ]
  },
  {
   "cell_type": "markdown",
   "metadata": {},
   "source": [
    "Desde este boton podremos agregar imagenes."
   ]
  },
  {
   "cell_type": "markdown",
   "metadata": {},
   "source": [
    "<img src=\"Imagenes/detalle_imagen.png\">"
   ]
  },
  {
   "cell_type": "markdown",
   "metadata": {},
   "source": [
    "Y aqui es donde se ingresaran los atributos de la imagen, que son importantes para el SEO.\n",
    "- <b>Texto Alternativo (Alt)</b>: Google utiliza este campo para saber de que te trata la imagen. Por lo tanto aqui debemos escribir que es la imagen. Tiene que ser un texto corto. No es leido por los usuarios, solo lo usa Google.\n",
    "- <b>Leyenda (Caption)</b>: Esto si es un texto leido por el usuario. Asi que aqui si va un texto mas largo."
   ]
  },
  {
   "cell_type": "markdown",
   "metadata": {},
   "source": [
    "<img src=\"Imagenes/detalle_entrada_relleno.png\">"
   ]
  },
  {
   "cell_type": "markdown",
   "metadata": {},
   "source": [
    "<img src=\"Imagenes/imagen_subida.png\">"
   ]
  },
  {
   "cell_type": "markdown",
   "metadata": {},
   "source": [
    "#### Poner un Subtitulo (H2)"
   ]
  },
  {
   "cell_type": "markdown",
   "metadata": {},
   "source": [
    "Seleccionamos un texto y vamos a el dropdown de parrafo."
   ]
  },
  {
   "cell_type": "markdown",
   "metadata": {},
   "source": [
    "<img src=\"Imagenes/parrafo.png\">"
   ]
  },
  {
   "cell_type": "markdown",
   "metadata": {},
   "source": [
    "Y aqui seleccionamos \"Titulo 2\"."
   ]
  },
  {
   "cell_type": "markdown",
   "metadata": {},
   "source": [
    "<img src=\"Imagenes/titulo_2.png\">"
   ]
  },
  {
   "cell_type": "markdown",
   "metadata": {},
   "source": [
    "Si quisieramos poner un H3, H4... seria analogo."
   ]
  },
  {
   "cell_type": "markdown",
   "metadata": {},
   "source": [
    "#### Anadir un enlace"
   ]
  },
  {
   "cell_type": "markdown",
   "metadata": {},
   "source": [
    "Seleccionamos un texto:"
   ]
  },
  {
   "cell_type": "markdown",
   "metadata": {},
   "source": [
    "<img src=\"Imagenes/enlace_seleccion.png\">"
   ]
  },
  {
   "cell_type": "markdown",
   "metadata": {},
   "source": [
    "Luego vamos a introducir la URL del enlace."
   ]
  },
  {
   "cell_type": "markdown",
   "metadata": {},
   "source": [
    "<img src=\"Imagenes/url_enlace.png\">"
   ]
  },
  {
   "cell_type": "markdown",
   "metadata": {},
   "source": [
    "### Categorias"
   ]
  },
  {
   "cell_type": "markdown",
   "metadata": {},
   "source": [
    "Wordpress nos permite clasificar las entradas por categorias."
   ]
  },
  {
   "cell_type": "markdown",
   "metadata": {},
   "source": [
    "<img src=\"Imagenes/categorias.png\">"
   ]
  },
  {
   "cell_type": "markdown",
   "metadata": {},
   "source": [
    "Por defecto existe la categoria \"Uncategorized\" y las entradas que creamos pertenecen a esta categoria. La cual es muy fea, debemos crear una categoria que represente mejor a nuestra entrada."
   ]
  },
  {
   "cell_type": "markdown",
   "metadata": {},
   "source": [
    "<img src=\"Imagenes/anadir_nueva_categoria.png\">"
   ]
  },
  {
   "cell_type": "markdown",
   "metadata": {},
   "source": [
    "Creamos la categoria \"periquitos\" y seleccionamos que la entrada pertenesca a esta categoria."
   ]
  },
  {
   "cell_type": "markdown",
   "metadata": {},
   "source": [
    "<img src=\"Imagenes/categoria_periquitos.png\">"
   ]
  },
  {
   "cell_type": "markdown",
   "metadata": {},
   "source": [
    "Luego, todas las entradas que se traten de periquitos deberian pertenecer a esta categoria."
   ]
  }
 ],
 "metadata": {
  "kernelspec": {
   "display_name": "Python 3",
   "language": "python",
   "name": "python3"
  },
  "language_info": {
   "codemirror_mode": {
    "name": "ipython",
    "version": 3
   },
   "file_extension": ".py",
   "mimetype": "text/x-python",
   "name": "python",
   "nbconvert_exporter": "python",
   "pygments_lexer": "ipython3",
   "version": "3.6.4"
  }
 },
 "nbformat": 4,
 "nbformat_minor": 2
}
