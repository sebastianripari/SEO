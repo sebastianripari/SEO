{
 "cells": [
  {
   "cell_type": "markdown",
   "metadata": {},
   "source": [
    "# Diccionario"
   ]
  },
  {
   "cell_type": "markdown",
   "metadata": {},
   "source": [
    "<hr>"
   ]
  },
  {
   "cell_type": "markdown",
   "metadata": {},
   "source": [
    "## Dominio"
   ]
  },
  {
   "cell_type": "markdown",
   "metadata": {},
   "source": [
    "Es la direccion o texto para dirigirnos a la pagina web. Por ejemplo <b>www.google.com</b>. Los dominios pueden tener diferentes terminaciones como .COM .NET .ORG. Si cambia la terminacion entonces cambia la Web, no es la misma. Si las terminaciones son .ES .FR. MX .AR significa que estas paginas estan pensadas para solo esa region, es decir no son <b>dominios globales</b> sino que son <b>dominios locales</b>. Los diminios globales serian .COM .NET .ORG."
   ]
  }
 ],
 "metadata": {
  "kernelspec": {
   "display_name": "Python 3",
   "language": "python",
   "name": "python3"
  },
  "language_info": {
   "codemirror_mode": {
    "name": "ipython",
    "version": 3
   },
   "file_extension": ".py",
   "mimetype": "text/x-python",
   "name": "python",
   "nbconvert_exporter": "python",
   "pygments_lexer": "ipython3",
   "version": "3.6.4"
  }
 },
 "nbformat": 4,
 "nbformat_minor": 2
}
