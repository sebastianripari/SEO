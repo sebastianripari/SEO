{
 "cells": [
  {
   "cell_type": "markdown",
   "metadata": {},
   "source": [
    "# Diccionario SEO"
   ]
  },
  {
   "cell_type": "markdown",
   "metadata": {},
   "source": [
    "<hr>"
   ]
  },
  {
   "cell_type": "markdown",
   "metadata": {},
   "source": [
    "## Dominio"
   ]
  },
  {
   "cell_type": "markdown",
   "metadata": {},
   "source": [
    "Es la direccion o texto para dirigirnos a la pagina web. Por ejemplo <b>www.google.com</b>. Los dominios pueden tener diferentes terminaciones como .COM .NET .ORG. Si cambia la terminacion entonces cambia la Web, no es la misma. Si las terminaciones son .ES .FR. MX .AR significa que estas paginas estan pensadas para solo esa region, es decir no son <b>dominios globales</b> sino que son <b>dominios locales</b>. Los diminios globales serian .COM .NET .ORG."
   ]
  },
  {
   "cell_type": "markdown",
   "metadata": {},
   "source": [
    "<hr>"
   ]
  },
  {
   "cell_type": "markdown",
   "metadata": {},
   "source": [
    "## Palabra Clave (KeyWord)"
   ]
  },
  {
   "cell_type": "markdown",
   "metadata": {},
   "source": [
    "Son las palabras que la gente busca en los buscadores. Por ejemplo, <b>vuelos baratos</b>. Identificar las palabras claves de nuestra web nos permite luego optimizar el contenido de esta para que rankee bien cuando se realize la busqueda de las mismas."
   ]
  },
  {
   "cell_type": "markdown",
   "metadata": {},
   "source": [
    "<hr>"
   ]
  },
  {
   "cell_type": "markdown",
   "metadata": {},
   "source": [
    "## Palabra Clave Long Tail"
   ]
  },
  {
   "cell_type": "markdown",
   "metadata": {},
   "source": [
    "Son palabras clave que no tienen tantas busquedas pero que son mas faciles de posicionar, son palabras clave mas largas. Por ejemplo si una palabra clave es <b>vuelos baratos</b> una long tail es <b>vuelos baratos a londres para estudiantes</b>."
   ]
  },
  {
   "cell_type": "markdown",
   "metadata": {},
   "source": [
    "<hr>"
   ]
  },
  {
   "cell_type": "markdown",
   "metadata": {},
   "source": [
    "## URL (Uniform Resource Locator)"
   ]
  },
  {
   "cell_type": "markdown",
   "metadata": {},
   "source": [
    "Es la direccion que aparece en la barra de nuestro navegador por ejemplo <b>coinmarketcap.com/currencies/ethereum/</b>. Son importantes para el SEO porque nos permiten optimizar algunos factores de posicionamiento para ciertas palabras claves, tienen que ser amigables, de facil lectura."
   ]
  },
  {
   "cell_type": "markdown",
   "metadata": {},
   "source": [
    "<hr>"
   ]
  },
  {
   "cell_type": "markdown",
   "metadata": {},
   "source": [
    "## Enlace (Link)"
   ]
  },
  {
   "cell_type": "markdown",
   "metadata": {},
   "source": [
    "Es una imagen o un texto, en el que si haces click te lleva hacia otra pagina."
   ]
  },
  {
   "cell_type": "markdown",
   "metadata": {},
   "source": [
    "<hr>"
   ]
  },
  {
   "cell_type": "markdown",
   "metadata": {},
   "source": [
    "## Texto Ancla "
   ]
  },
  {
   "cell_type": "markdown",
   "metadata": {},
   "source": [
    "Es el texto visible de un enlace. En el que si hacemos click nos lleva a otra direccion URL. Esto es importante para el SEO, porque le permite a Google saber a que va cada link."
   ]
  },
  {
   "cell_type": "markdown",
   "metadata": {},
   "source": [
    "<hr>"
   ]
  },
  {
   "cell_type": "markdown",
   "metadata": {},
   "source": [
    "## Arania Web"
   ]
  },
  {
   "cell_type": "markdown",
   "metadata": {},
   "source": [
    "Es un programa automatizado que va inspeccionado todas las paginas webs, va siguiendo todos los enlances que hay en las paginas. Esto es importante para el SEO. Es importante que la arania de Google sea capaz de llegar a todas la URL que queremos que se posicione. Esto se hace con arquitectura Web."
   ]
  },
  {
   "cell_type": "markdown",
   "metadata": {},
   "source": [
    "<hr>"
   ]
  },
  {
   "cell_type": "markdown",
   "metadata": {},
   "source": [
    "## Enlace NoFollow"
   ]
  },
  {
   "cell_type": "markdown",
   "metadata": {},
   "source": [
    "Es un enlace que tiene el atributo NoFollow, le esta diciendo a las aranias web que no sigan ese enlace. Las aranias no van a \"hacer click\" en ese enlace. Aunque los usuarios si que pueden clickear ahi. Esto es importante para el SEO. Un enlace NoFollow no posiciona, no pasa a PageRank."
   ]
  },
  {
   "cell_type": "markdown",
   "metadata": {},
   "source": [
    "<hr>"
   ]
  },
  {
   "cell_type": "markdown",
   "metadata": {},
   "source": [
    "## Enlace DoFollow"
   ]
  },
  {
   "cell_type": "markdown",
   "metadata": {},
   "source": [
    "Un enlace DoFollow es un enlace normal, osea es un enlace que pueden clickear los usuarios y las aranias. Por lo tanto posiciona, pasa a PageRank."
   ]
  },
  {
   "cell_type": "markdown",
   "metadata": {},
   "source": [
    "<hr>"
   ]
  },
  {
   "cell_type": "markdown",
   "metadata": {},
   "source": [
    "## Enlace con el atributo BLANK (target = \"_blank\")"
   ]
  },
  {
   "cell_type": "markdown",
   "metadata": {},
   "source": [
    "Es un enlace en el cual cuando lo clickeamos se abre en una pestania nueva. Los enlaces con este atributo son utiles cuando los enlaces son hacia otra pagina que no es la nuestra, asi el usuario sigue en nuestra pagina."
   ]
  },
  {
   "cell_type": "markdown",
   "metadata": {},
   "source": [
    "<hr>"
   ]
  },
  {
   "cell_type": "markdown",
   "metadata": {},
   "source": [
    "## Link Building"
   ]
  },
  {
   "cell_type": "markdown",
   "metadata": {},
   "source": [
    "Es obtener enlaces. Es conseguir que otras paginas pongan enlaces hacia nuestra web. Esto se consigue creando nosotros mismos esos enlaces, pagando o pidiendo. Lo portante de esto es que nos posiciona. Es uno de los factores mas relevantes hoy en dia. Ese enlace tiene que ser relevante, estar en una web qe tenga trafico. Y tiene que ser satifactorio para la gente, es decir que la gente alla encontrado lo que queria."
   ]
  },
  {
   "cell_type": "markdown",
   "metadata": {},
   "source": [
    "<hr>"
   ]
  },
  {
   "cell_type": "markdown",
   "metadata": {},
   "source": [
    "## SEO Negativo"
   ]
  },
  {
   "cell_type": "markdown",
   "metadata": {},
   "source": [
    "El SEO Negativo, es hacer acciones que en lugar que mejoren nuestro resultado, hacer que perjudique el de otro. Por ejemplo a las paginas que estan por encima nuestro en los resultados de Google hacer acciones para bajarlas. Las acciones mas tipicas son crear enlaces en esas webs con texto ancla muy feos. Es necesario saber que existe, aunque Google cada ves detecta mejor lo que es el SEO negativo. Y tambien hay herramientas que nos permiten luchar contra el SEO negativo."
   ]
  },
  {
   "cell_type": "markdown",
   "metadata": {},
   "source": [
    "<hr>"
   ]
  },
  {
   "cell_type": "markdown",
   "metadata": {},
   "source": [
    "## DA (Domain Authority) y PA (Page Authority)"
   ]
  },
  {
   "cell_type": "markdown",
   "metadata": {},
   "source": [
    "Son unas metricas ajenas a Google creadas por una empresa que se llama Moz. Que tienen el objetivo de evaluar la fuerza de autoridad y posicionamiento de un dominio y una pagina. Nos importa poco para el SEO ya que son ajenas a Google. Lo importante a saber aca es que no hay que hacerle mucho caso."
   ]
  },
  {
   "cell_type": "markdown",
   "metadata": {},
   "source": [
    "<hr>"
   ]
  },
  {
   "cell_type": "markdown",
   "metadata": {},
   "source": [
    "## Link Baiting (Cebo para enlaces)"
   ]
  },
  {
   "cell_type": "markdown",
   "metadata": {},
   "source": [
    "Basicamente es inducir enlaces, que las paginas pongan nuestra web sin pedirlos. Hay varias formas de hacer esto, unas de las mas tipicas es hacer polemica. Otra forma es creando mucho valor, es decir hacer atractivo nuestro contenido. Es importante para el SEO porque conseguimos enlace, y eso aumenta nuestro nuestra posicionamiento."
   ]
  },
  {
   "cell_type": "markdown",
   "metadata": {},
   "source": [
    "<hr>"
   ]
  },
  {
   "cell_type": "markdown",
   "metadata": {},
   "source": [
    "## ClickBait"
   ]
  },
  {
   "cell_type": "markdown",
   "metadata": {},
   "source": [
    "Es conseguir que la gente haga click. Para esto va muy bien las imagenes, los titulares. Es aumentar las posibilidades que haga click. Tiene que llamar la atencion. El ClickBait es una habilidad que tenemos que conseguir los SEO."
   ]
  },
  {
   "cell_type": "markdown",
   "metadata": {},
   "source": [
    "<hr>"
   ]
  }
 ],
 "metadata": {
  "kernelspec": {
   "display_name": "Python 3",
   "language": "python",
   "name": "python3"
  },
  "language_info": {
   "codemirror_mode": {
    "name": "ipython",
    "version": 3
   },
   "file_extension": ".py",
   "mimetype": "text/x-python",
   "name": "python",
   "nbconvert_exporter": "python",
   "pygments_lexer": "ipython3",
   "version": "3.6.4"
  }
 },
 "nbformat": 4,
 "nbformat_minor": 2
}
