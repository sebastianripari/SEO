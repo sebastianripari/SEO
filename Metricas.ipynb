{
 "cells": [
  {
   "cell_type": "markdown",
   "metadata": {},
   "source": [
    "# Metricas"
   ]
  },
  {
   "cell_type": "markdown",
   "metadata": {},
   "source": [
    "## CTR (Click to Ratio)"
   ]
  },
  {
   "cell_type": "markdown",
   "metadata": {},
   "source": [
    "Es la relacion que hay entre visualizaciones y clicks. Cuando hacemos una busqueda en Google y este nos arroja los resultadods, las paginas que aparecen ahi cuentan como visualizacion, y puede que hagamos click o no. Entonces el CTR es siempre menor o igual que 1. Si la pagina siempre es clickeada sera 1, si la pagina es clickeada la mitad de las veces que es visualizada el CTR sera 0.5. Esto es muy importante para el SEO, ya que el CTR es un factor que posiciona, cuando por ejemplo una web que esta puesto 5 tiene mas CTR que una que esta puesto 3, es seguro que la que esta en puesto 5 va a ir subiendo."
   ]
  },
  {
   "cell_type": "markdown",
   "metadata": {},
   "source": [
    "<hr>"
   ]
  },
  {
   "cell_type": "markdown",
   "metadata": {},
   "source": [
    "## Cost Per Click (CPC) o Pay Per Click (PPC)"
   ]
  },
  {
   "cell_type": "markdown",
   "metadata": {},
   "source": []
  }
 ],
 "metadata": {
  "kernelspec": {
   "display_name": "Python 3",
   "language": "python",
   "name": "python3"
  },
  "language_info": {
   "codemirror_mode": {
    "name": "ipython",
    "version": 3
   },
   "file_extension": ".py",
   "mimetype": "text/x-python",
   "name": "python",
   "nbconvert_exporter": "python",
   "pygments_lexer": "ipython3",
   "version": "3.7.3"
  }
 },
 "nbformat": 4,
 "nbformat_minor": 2
}
