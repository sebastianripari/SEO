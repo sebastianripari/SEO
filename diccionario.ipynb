{
 "cells": [
  {
   "cell_type": "markdown",
   "metadata": {},
   "source": [
    "# Diccionario SEO"
   ]
  },
  {
   "cell_type": "markdown",
   "metadata": {},
   "source": [
    "<b>Fuente</b>: https://www.youtube.com/playlist?list=PL6heMTo6Ni5fQaUBZhK1Zpj5fnHtbVN9A"
   ]
  },
  {
   "cell_type": "markdown",
   "metadata": {},
   "source": [
    "<hr>"
   ]
  },
  {
   "cell_type": "markdown",
   "metadata": {},
   "source": [
    "## Dominio"
   ]
  },
  {
   "cell_type": "markdown",
   "metadata": {},
   "source": [
    "Es la direccion o texto para dirigirnos a la pagina web. Por ejemplo <b>www.google.com</b>. Los dominios pueden tener diferentes terminaciones como .COM .NET .ORG. Si cambia la terminacion entonces cambia la Web, no es la misma. Si las terminaciones son .ES .FR. MX .AR significa que estas paginas estan pensadas para solo esa region, es decir no son <b>dominios globales</b> sino que son <b>dominios locales</b>. Los diminios globales serian .COM .NET .ORG."
   ]
  },
  {
   "cell_type": "markdown",
   "metadata": {},
   "source": [
    "<hr>"
   ]
  },
  {
   "cell_type": "markdown",
   "metadata": {},
   "source": [
    "## Palabra Clave (KeyWord)"
   ]
  },
  {
   "cell_type": "markdown",
   "metadata": {},
   "source": [
    "Son las palabras que la gente busca en los buscadores. Por ejemplo, <b>vuelos baratos</b>. Identificar las palabras claves de nuestra web nos permite luego optimizar el contenido de esta para que rankee bien cuando se realize la busqueda de las mismas."
   ]
  },
  {
   "cell_type": "markdown",
   "metadata": {},
   "source": [
    "<hr>"
   ]
  },
  {
   "cell_type": "markdown",
   "metadata": {},
   "source": [
    "## Palabra Clave Long Tail"
   ]
  },
  {
   "cell_type": "markdown",
   "metadata": {},
   "source": [
    "Son palabras clave que no tienen tantas busquedas pero que son mas faciles de posicionar, son palabras clave mas largas. Por ejemplo si una palabra clave es <b>vuelos baratos</b> una long tail es <b>vuelos baratos a londres para estudiantes</b>."
   ]
  },
  {
   "cell_type": "markdown",
   "metadata": {},
   "source": [
    "<hr>"
   ]
  },
  {
   "cell_type": "markdown",
   "metadata": {},
   "source": [
    "## URL (Uniform Resource Locator)"
   ]
  },
  {
   "cell_type": "markdown",
   "metadata": {},
   "source": [
    "Es la direccion que aparece en la barra de nuestro navegador por ejemplo <b>coinmarketcap.com/currencies/ethereum/</b>. Son importantes para el SEO porque nos permiten optimizar algunos factores de posicionamiento para ciertas palabras claves, tienen que ser amigables, de facil lectura."
   ]
  },
  {
   "cell_type": "markdown",
   "metadata": {},
   "source": [
    "<hr>"
   ]
  },
  {
   "cell_type": "markdown",
   "metadata": {},
   "source": [
    "## Enlace (Link)"
   ]
  },
  {
   "cell_type": "markdown",
   "metadata": {},
   "source": [
    "Es una imagen o un texto, en el que si haces click te lleva hacia otra pagina."
   ]
  },
  {
   "cell_type": "markdown",
   "metadata": {},
   "source": [
    "<hr>"
   ]
  },
  {
   "cell_type": "markdown",
   "metadata": {},
   "source": [
    "## Texto Ancla "
   ]
  },
  {
   "cell_type": "markdown",
   "metadata": {},
   "source": [
    "Es el texto visible de un enlace. En el que si hacemos click nos lleva a otra direccion URL. Esto es importante para el SEO, porque le permite a Google saber a que va cada link."
   ]
  },
  {
   "cell_type": "markdown",
   "metadata": {},
   "source": [
    "<hr>"
   ]
  },
  {
   "cell_type": "markdown",
   "metadata": {},
   "source": [
    "## Arania Web"
   ]
  },
  {
   "cell_type": "markdown",
   "metadata": {},
   "source": [
    "Es un programa automatizado que va inspeccionado todas las paginas webs, va siguiendo todos los enlances que hay en las paginas. Esto es importante para el SEO. Es importante que la arania de Google sea capaz de llegar a todas la URL que queremos que se posicione. Esto se hace con arquitectura Web."
   ]
  },
  {
   "cell_type": "markdown",
   "metadata": {},
   "source": [
    "<hr>"
   ]
  },
  {
   "cell_type": "markdown",
   "metadata": {},
   "source": [
    "## Enlace NoFollow"
   ]
  },
  {
   "cell_type": "markdown",
   "metadata": {},
   "source": [
    "Es un enlace que tiene el atributo NoFollow, le esta diciendo a las aranias web que no sigan ese enlace. Las aranias no van a \"hacer click\" en ese enlace. Aunque los usuarios si que pueden clickear ahi. Esto es importante para el SEO. Un enlace NoFollow no posiciona, no pasa a PageRank."
   ]
  },
  {
   "cell_type": "markdown",
   "metadata": {},
   "source": [
    "<hr>"
   ]
  },
  {
   "cell_type": "markdown",
   "metadata": {},
   "source": [
    "## Enlace DoFollow"
   ]
  },
  {
   "cell_type": "markdown",
   "metadata": {},
   "source": [
    "Un enlace DoFollow es un enlace normal, osea es un enlace que pueden clickear los usuarios y las aranias. Por lo tanto posiciona, pasa a PageRank."
   ]
  },
  {
   "cell_type": "markdown",
   "metadata": {},
   "source": [
    "<hr>"
   ]
  },
  {
   "cell_type": "markdown",
   "metadata": {},
   "source": [
    "## Enlace con el atributo BLANK (target = \"_blank\")"
   ]
  },
  {
   "cell_type": "markdown",
   "metadata": {},
   "source": [
    "Es un enlace en el cual cuando lo clickeamos se abre en una pestania nueva. Los enlaces con este atributo son utiles cuando los enlaces son hacia otra pagina que no es la nuestra, asi el usuario sigue en nuestra pagina."
   ]
  },
  {
   "cell_type": "markdown",
   "metadata": {},
   "source": [
    "<hr>"
   ]
  },
  {
   "cell_type": "markdown",
   "metadata": {},
   "source": [
    "## Link Building"
   ]
  },
  {
   "cell_type": "markdown",
   "metadata": {},
   "source": [
    "Es obtener enlaces. Es conseguir que otras paginas pongan enlaces hacia nuestra web. Esto se consigue creando nosotros mismos esos enlaces, pagando o pidiendo. Lo importante de esto es que nos posiciona. Es uno de los factores mas relevantes hoy en dia. Ese enlace tiene que ser relevante, estar en una web qe tenga trafico. Y tiene que ser satifactorio para la gente, es decir que la gente alla encontrado lo que queria."
   ]
  },
  {
   "cell_type": "markdown",
   "metadata": {},
   "source": [
    "<hr>"
   ]
  },
  {
   "cell_type": "markdown",
   "metadata": {},
   "source": [
    "## SEO Negativo"
   ]
  },
  {
   "cell_type": "markdown",
   "metadata": {},
   "source": [
    "El SEO Negativo, es hacer acciones que en lugar que mejoren nuestro resultado, hacer que perjudique el de otro. Por ejemplo a las paginas que estan por encima nuestro en los resultados de Google hacer acciones para bajarlas. Las acciones mas tipicas son crear enlaces en esas webs con texto ancla muy feos. Es necesario saber que existe, aunque Google cada ves detecta mejor lo que es el SEO negativo. Y tambien hay herramientas que nos permiten luchar contra el SEO negativo."
   ]
  },
  {
   "cell_type": "markdown",
   "metadata": {},
   "source": [
    "<hr>"
   ]
  },
  {
   "cell_type": "markdown",
   "metadata": {},
   "source": [
    "## DA (Domain Authority) y PA (Page Authority)"
   ]
  },
  {
   "cell_type": "markdown",
   "metadata": {},
   "source": [
    "Son unas metricas ajenas a Google creadas por una empresa que se llama Moz. Que tienen el objetivo de evaluar la fuerza de autoridad y posicionamiento de un dominio y una pagina. Nos importa poco para el SEO ya que son ajenas a Google. Lo importante a saber aca es que no hay que hacerle mucho caso."
   ]
  },
  {
   "cell_type": "markdown",
   "metadata": {},
   "source": [
    "<hr>"
   ]
  },
  {
   "cell_type": "markdown",
   "metadata": {},
   "source": [
    "## Link Baiting (Cebo para enlaces)"
   ]
  },
  {
   "cell_type": "markdown",
   "metadata": {},
   "source": [
    "Basicamente es inducir enlaces, que las paginas pongan nuestra web sin pedirlos. Hay varias formas de hacer esto, unas de las mas tipicas es hacer polemica. Otra forma es creando mucho valor, es decir hacer atractivo nuestro contenido. Es importante para el SEO porque conseguimos enlace, y eso aumenta nuestro nuestra posicionamiento."
   ]
  },
  {
   "cell_type": "markdown",
   "metadata": {},
   "source": [
    "<hr>"
   ]
  },
  {
   "cell_type": "markdown",
   "metadata": {},
   "source": [
    "## ClickBait"
   ]
  },
  {
   "cell_type": "markdown",
   "metadata": {},
   "source": [
    "Es conseguir que la gente haga click. Para esto va muy bien las imagenes, los titulares. Es aumentar las posibilidades que haga click. Tiene que llamar la atencion. El ClickBait es una habilidad que tenemos que conseguir los SEO."
   ]
  },
  {
   "cell_type": "markdown",
   "metadata": {},
   "source": [
    "<hr>"
   ]
  },
  {
   "cell_type": "markdown",
   "metadata": {},
   "source": [
    "## SEO Blackhat"
   ]
  },
  {
   "cell_type": "markdown",
   "metadata": {},
   "source": [
    "Es el SEO que va en contra de las normas de Google. Es una forma peligrosa de hacer SEO. Pero Google las va descubriendo y luego realiza la penalizacion a esa Web. "
   ]
  },
  {
   "cell_type": "markdown",
   "metadata": {},
   "source": [
    "<hr>"
   ]
  },
  {
   "cell_type": "markdown",
   "metadata": {},
   "source": [
    "## KeyWord Stuffing"
   ]
  },
  {
   "cell_type": "markdown",
   "metadata": {},
   "source": [
    "Es una tecnica BlackHat que consiste en repetir excesibamente las palabras claves.<br>\n",
    "<b>Ejemplo</b>: si buscas un cerrajero en barcelona, yo soy un cerrajero, y de barcelona, trabajo en barcenlona, de cerrajero, soy el mejor cerrajero.<br>\n",
    "Esto funcionaba antes pero ya no funciona. Asi que bajo ningun punto de vista hay que hacerlo."
   ]
  },
  {
   "cell_type": "markdown",
   "metadata": {},
   "source": [
    "<hr>"
   ]
  },
  {
   "cell_type": "markdown",
   "metadata": {},
   "source": [
    "## SEO On Page"
   ]
  },
  {
   "cell_type": "markdown",
   "metadata": {},
   "source": [
    "Es el SEO que se realiza dentro de nuestra pagina web. Es una disciplina fantastica, grandiosa e infinita. Se asocia al SEO WhiteHat, el seguro, el que da resultados que duran en el tiempo, el que le gusta a Google. Hay un monton de estrategias para esto:\n",
    "- SEO On Page optimizacion de palabras clave.\n",
    "- SEO On Page de estructura web.\n",
    "- SEO On Page de url.\n",
    "<br>\n"
   ]
  },
  {
   "cell_type": "markdown",
   "metadata": {},
   "source": [
    "<hr>"
   ]
  },
  {
   "cell_type": "markdown",
   "metadata": {},
   "source": [
    "## CTR (Click to Ratio)"
   ]
  },
  {
   "cell_type": "markdown",
   "metadata": {},
   "source": [
    "Es la relacion que hay entre visualizaciones y clicks. Cuando hacemos una busqueda en Google y este nos arroja los resultadods, las paginas que aparecen ahi cuentan como visualizacion, y puede que hagamos click o no. Entonces el CTR es siempre menor o igual que 1. Si la pagina siempre es clickeada sera 1, si la pagina es clickeada la mitad de las veces que es visualizada el CTR sera 0.5. Esto es muy importante para el SEO, ya que el CTR es un factor que posiciona, cuando por ejemplo una web que esta puesto 5 tiene mas CTR que una que esta puesto 3, es seguro que la que esta en puesto 5 va a ir subiendo. "
   ]
  },
  {
   "cell_type": "markdown",
   "metadata": {},
   "source": [
    "<hr>"
   ]
  },
  {
   "cell_type": "markdown",
   "metadata": {},
   "source": [
    "## SEO WhiteWat"
   ]
  },
  {
   "cell_type": "markdown",
   "metadata": {},
   "source": [
    "Es el SEO que sigue las normas de Google. Se asocia mucho al SEO On Page. Es el recomendado, dura a largo plazo los resultados que obtendremos. Este es el SEO seguro, el que hay que hacer."
   ]
  },
  {
   "cell_type": "markdown",
   "metadata": {},
   "source": [
    "<hr>"
   ]
  },
  {
   "cell_type": "markdown",
   "metadata": {},
   "source": [
    "## Google Adwords"
   ]
  },
  {
   "cell_type": "markdown",
   "metadata": {},
   "source": [
    "Es la plataforma de anuncios de Google, para anunciantes. Es decir es el lugar donde los usuarios que quieren publicitar su web recurren. Es un servicio pago. Los anuncios puestos aca son los que luego vemos en las diferentes paginas. Y es Google el que decide que anuncio mostrar en cada pagina mediante sus algoritmos de machine learning."
   ]
  },
  {
   "cell_type": "markdown",
   "metadata": {},
   "source": [
    "<hr>"
   ]
  },
  {
   "cell_type": "markdown",
   "metadata": {},
   "source": [
    "## Contenido Duplicado"
   ]
  },
  {
   "cell_type": "markdown",
   "metadata": {},
   "source": [
    "Es un contenido indexado que esta duplicado. Esto es simplemente contenido duplicado en la misma pagina o diferente paginas. Cuando Google detecta esto no es bueno ya que esta repitiendo informacion, es decir no se esta aportando nada nuevo, y nos baja el rankeo, cuando se trata de contenido duplicado en la misma pagina no es tan grave. Pero si lo es cuando se trata de diferentes webs, en ese caso Google no nos va a posicionar."
   ]
  },
  {
   "cell_type": "markdown",
   "metadata": {},
   "source": [
    "<hr>"
   ]
  },
  {
   "cell_type": "markdown",
   "metadata": {},
   "source": [
    "## Canibalizacion de Palabras Clave"
   ]
  },
  {
   "cell_type": "markdown",
   "metadata": {},
   "source": [
    "Es cuando diferentes URL (diferentes paginas/secciones) de la web intentando posicionarse para la misma palabra clave. Esto lo tenemos que evitar ya que no le estamos diciendo a Google claramente que pagina queremos que se posicione para esa palabra clave."
   ]
  },
  {
   "cell_type": "markdown",
   "metadata": {},
   "source": [
    "<hr>"
   ]
  },
  {
   "cell_type": "markdown",
   "metadata": {},
   "source": [
    "## EMD (Exact Match Domain)"
   ]
  },
  {
   "cell_type": "markdown",
   "metadata": {},
   "source": [
    "Es un dominio que tiene una palabra clave exacta. Ejemplo <b>cerrajerosbarcelona.com</b>, es decir es un dominio que tiene la palabra clave <b>cerrajero barcelona</b>. Esto aumenta un poco el posicionamineto."
   ]
  },
  {
   "cell_type": "markdown",
   "metadata": {},
   "source": [
    "<hr>"
   ]
  },
  {
   "cell_type": "markdown",
   "metadata": {},
   "source": [
    "## SEM (Search Engine Marketing)"
   ]
  },
  {
   "cell_type": "markdown",
   "metadata": {},
   "source": [
    "Es pagar para tener trafico. A diferencia del SEO que es gratis. Ejemplos son los anuncios que aparecen en Google cuando realizamos una busqueda (Los que aparecen en las primeras posiciones, y aclaran que son anuncios)."
   ]
  },
  {
   "cell_type": "markdown",
   "metadata": {},
   "source": [
    "<hr>"
   ]
  },
  {
   "cell_type": "markdown",
   "metadata": {},
   "source": [
    "## SiteMap"
   ]
  },
  {
   "cell_type": "markdown",
   "metadata": {},
   "source": [
    "Es un mapa del sitio. Es un archivo XML que es una lista de la URLs que nosotros queremos que se indexen en los buscadores. Es para facilitarle el trabajo a la Arania Web. Hay webs que nos generan el SiteMap. Es una buena herramienta hacer esto ya que lo podemos subir al Google Search Console y Google nos dira si hay errores."
   ]
  },
  {
   "cell_type": "markdown",
   "metadata": {},
   "source": [
    "<hr>"
   ]
  },
  {
   "cell_type": "markdown",
   "metadata": {},
   "source": [
    "## Google Adsense"
   ]
  },
  {
   "cell_type": "markdown",
   "metadata": {},
   "source": [
    "Es la plataforma que distribuye las publicidades anunciadas en Google Adwords. Los propietarios de paginas webs pueden poner publicidades usando Google Adsense. Y cuando el usuario haga click en estas se le pagara al usuario."
   ]
  },
  {
   "cell_type": "markdown",
   "metadata": {},
   "source": [
    "<hr>"
   ]
  },
  {
   "cell_type": "markdown",
   "metadata": {},
   "source": [
    "## SERPS (Search Engine Results Pages)"
   ]
  },
  {
   "cell_type": "markdown",
   "metadata": {},
   "source": [
    "Son las paginas resultado de los motores de busqueda. Osea son los resultados de los buscadores. Por ejemplo si hacemos una busqueda, los resultados de esa busqueda es la SERPS."
   ]
  },
  {
   "cell_type": "markdown",
   "metadata": {},
   "source": [
    "<hr>"
   ]
  },
  {
   "cell_type": "markdown",
   "metadata": {},
   "source": [
    "## Redireccion 301"
   ]
  },
  {
   "cell_type": "markdown",
   "metadata": {},
   "source": [
    "Es un comando para decirle a Google que cierta URL ahora es otra. Lo increible que tiene es que se mantiene el posicionamiento, el page rank de la URL vieja."
   ]
  },
  {
   "cell_type": "markdown",
   "metadata": {},
   "source": [
    "<hr>"
   ]
  },
  {
   "cell_type": "markdown",
   "metadata": {},
   "source": [
    "## Dominio Expirado"
   ]
  },
  {
   "cell_type": "markdown",
   "metadata": {},
   "source": [
    "Es un dominio que ha caducado pero que fue utilizado anteriormente. Hay que tener cuidado porque este dominio puede estar penalizado, o bien podemos tener suerte y ese dominio puede ser genial por estar bien posicionado. Por lo tanto a la hora de usar un dominio nuevo es muy importante ver su historia. Para esto existe una web llamada https://archive.org/ o tambien https://www.openlinkprofiler.org/."
   ]
  },
  {
   "cell_type": "markdown",
   "metadata": {},
   "source": [
    "<hr>"
   ]
  },
  {
   "cell_type": "markdown",
   "metadata": {},
   "source": [
    "## FootPrints "
   ]
  },
  {
   "cell_type": "markdown",
   "metadata": {},
   "source": [
    "Son unos comandos que permiten hacer filtros en las busquedas de Google. <b>Ejemplo</b> si buscamos \"site:romualdfons.com vuelos baratos\" nos arrojara los resultados que pertenecen a la pagina indicada. Esta lleno de filtros."
   ]
  },
  {
   "cell_type": "markdown",
   "metadata": {},
   "source": [
    "<hr>"
   ]
  },
  {
   "cell_type": "markdown",
   "metadata": {},
   "source": [
    "## SubDominios"
   ]
  },
  {
   "cell_type": "markdown",
   "metadata": {},
   "source": [
    "Es una palabra que anadimos antes del dominio. Por ejemplo si tenemos una pagina de pajaros llamada \"avesexoticas.org\" y tenemos diferentes secciones como \"loros\", \"carpinteros\". Entonces si usaramos subdominios quedaria posiblemente \"loros.avesexoticas.org\", \"carpinteros.avesexoticas.org\". El problema de hacer esto es que si loros.avesexoticas.com tiene un buen desempenio solo mejora el posicionamiento de esta y no de \"avesexoticas.com\". Por lo tanto lo que se debe hacer es no usar subdominios y usar esto \"avesexoticas.org/loros\"."
   ]
  },
  {
   "cell_type": "markdown",
   "metadata": {},
   "source": [
    "<hr>"
   ]
  },
  {
   "cell_type": "markdown",
   "metadata": {},
   "source": [
    "## Thin Content"
   ]
  },
  {
   "cell_type": "markdown",
   "metadata": {},
   "source": [
    "Son paginas o URL que tienen contenido de baja calidad, eventualmente esto se asocia a que tengan poco contenido. Es un contenido que no le aporta nada al usuario.  "
   ]
  },
  {
   "cell_type": "markdown",
   "metadata": {},
   "source": [
    "<hr>"
   ]
  },
  {
   "cell_type": "markdown",
   "metadata": {},
   "source": [
    "## Meta Title (Etiqueta Title HTML)"
   ]
  },
  {
   "cell_type": "markdown",
   "metadata": {},
   "source": [
    "Es una etiqueta HTML que define el titulo de cada una de las paginas de nuestra web. Esto es muy importante para el SEO. Es uno de los primeros factores que tiene en cuenta Google para posicionar nuestra web."
   ]
  },
  {
   "cell_type": "markdown",
   "metadata": {},
   "source": [
    "<hr>"
   ]
  },
  {
   "cell_type": "markdown",
   "metadata": {},
   "source": [
    "## Meta Descriptions"
   ]
  },
  {
   "cell_type": "markdown",
   "metadata": {},
   "source": [
    "Sirve para describir a que van cada una de las URL de nuestra pagina web. Es una etiqueta HTML.<br>"
   ]
  },
  {
   "cell_type": "markdown",
   "metadata": {},
   "source": [
    "<img src=\"Imagenes/meta_description.png\">"
   ]
  },
  {
   "cell_type": "markdown",
   "metadata": {},
   "source": [
    "No tiene porque ser visible. "
   ]
  },
  {
   "cell_type": "markdown",
   "metadata": {},
   "source": [
    "Otra cosa importante a mencionar es que es lo que se muestra en SERPS."
   ]
  },
  {
   "cell_type": "markdown",
   "metadata": {},
   "source": [
    "<img src=\"Imagenes/meta_description_google.png\">"
   ]
  },
  {
   "cell_type": "markdown",
   "metadata": {},
   "source": [
    "Las Meta Descriptions no afectan al posicionamiento pero si modifican seguramente el CTR. Ya que lo que estamos haciendo es cambiar la descripcion del sitio que luego el usuario leera."
   ]
  },
  {
   "cell_type": "markdown",
   "metadata": {},
   "source": [
    "<hr>"
   ]
  },
  {
   "cell_type": "markdown",
   "metadata": {},
   "source": [
    "## Meta KeyWords "
   ]
  },
  {
   "cell_type": "markdown",
   "metadata": {},
   "source": [
    "Las Meta KeyWords era parte de la metadata que se escribia antiguamente en las paginas web. Consiste en escribir todas las KeyWords que detallan a que va nuestra web. Para que luego Google sepa que paginas traer a la SERPS cuando realizamos una busqueda una palabra clave."
   ]
  },
  {
   "cell_type": "markdown",
   "metadata": {},
   "source": [
    "<hr>"
   ]
  },
  {
   "cell_type": "markdown",
   "metadata": {},
   "source": [
    "## TSA (Turbo SEO Afiliate E-Comerse)"
   ]
  },
  {
   "cell_type": "markdown",
   "metadata": {},
   "source": [
    "Es una pagina E-Commerse que se hace rapido que utiliza SEO y que la usamos como afiliacion. Esto es una pagina que ofrece productos especializados de cierto tipo, de cierta tematica bien especifica, eso para que tenga poca competencia en las busquedas de Google. Pero que la pagina no los vende sino que redirecciona hacia otra tienda como amazon, pero cuando vendemos un producto nos ganamos el 10% porciento."
   ]
  },
  {
   "cell_type": "markdown",
   "metadata": {},
   "source": [
    "<b>Ejemplo:</b> https://decalaveras.com"
   ]
  },
  {
   "cell_type": "markdown",
   "metadata": {},
   "source": [
    "<hr>"
   ]
  },
  {
   "cell_type": "markdown",
   "metadata": {},
   "source": [
    "## Enlace de Afiliacion"
   ]
  },
  {
   "cell_type": "markdown",
   "metadata": {},
   "source": [
    "Es un enlace que apunta hacia una tienda externa y que cuando alguien valla a esa tienda y compre algo nos llevemos un porcentaje de esa venta."
   ]
  }
 ],
 "metadata": {
  "kernelspec": {
   "display_name": "Python 3",
   "language": "python",
   "name": "python3"
  },
  "language_info": {
   "codemirror_mode": {
    "name": "ipython",
    "version": 3
   },
   "file_extension": ".py",
   "mimetype": "text/x-python",
   "name": "python",
   "nbconvert_exporter": "python",
   "pygments_lexer": "ipython3",
   "version": "3.6.4"
  }
 },
 "nbformat": 4,
 "nbformat_minor": 2
}
